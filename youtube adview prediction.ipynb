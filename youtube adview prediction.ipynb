{
 "cells": [
  {
   "cell_type": "markdown",
   "id": "6d3f5616",
   "metadata": {},
   "source": [
    "# Importing Libraries and Data"
   ]
  },
  {
   "cell_type": "code",
   "execution_count": 62,
   "id": "57245e3f",
   "metadata": {},
   "outputs": [],
   "source": [
    "import pandas as pd\n",
    "import numpy as np\n",
    "import matplotlib.pyplot as plt\n",
    "import seaborn as sns\n",
    "%matplotlib inline\n",
    "import warnings\n",
    "warnings.filterwarnings('ignore')"
   ]
  },
  {
   "cell_type": "code",
   "execution_count": 63,
   "id": "158b1539",
   "metadata": {},
   "outputs": [],
   "source": [
    "data = pd.read_csv('train.csv')"
   ]
  },
  {
   "cell_type": "code",
   "execution_count": 64,
   "id": "68775109",
   "metadata": {},
   "outputs": [
    {
     "data": {
      "text/html": [
       "<div>\n",
       "<style scoped>\n",
       "    .dataframe tbody tr th:only-of-type {\n",
       "        vertical-align: middle;\n",
       "    }\n",
       "\n",
       "    .dataframe tbody tr th {\n",
       "        vertical-align: top;\n",
       "    }\n",
       "\n",
       "    .dataframe thead th {\n",
       "        text-align: right;\n",
       "    }\n",
       "</style>\n",
       "<table border=\"1\" class=\"dataframe\">\n",
       "  <thead>\n",
       "    <tr style=\"text-align: right;\">\n",
       "      <th></th>\n",
       "      <th>vidid</th>\n",
       "      <th>adview</th>\n",
       "      <th>views</th>\n",
       "      <th>likes</th>\n",
       "      <th>dislikes</th>\n",
       "      <th>comment</th>\n",
       "      <th>published</th>\n",
       "      <th>duration</th>\n",
       "      <th>category</th>\n",
       "    </tr>\n",
       "  </thead>\n",
       "  <tbody>\n",
       "    <tr>\n",
       "      <th>0</th>\n",
       "      <td>VID_18655</td>\n",
       "      <td>40</td>\n",
       "      <td>1031602</td>\n",
       "      <td>8523</td>\n",
       "      <td>363</td>\n",
       "      <td>1095</td>\n",
       "      <td>2016-09-14</td>\n",
       "      <td>PT7M37S</td>\n",
       "      <td>F</td>\n",
       "    </tr>\n",
       "    <tr>\n",
       "      <th>1</th>\n",
       "      <td>VID_14135</td>\n",
       "      <td>2</td>\n",
       "      <td>1707</td>\n",
       "      <td>56</td>\n",
       "      <td>2</td>\n",
       "      <td>6</td>\n",
       "      <td>2016-10-01</td>\n",
       "      <td>PT9M30S</td>\n",
       "      <td>D</td>\n",
       "    </tr>\n",
       "    <tr>\n",
       "      <th>2</th>\n",
       "      <td>VID_2187</td>\n",
       "      <td>1</td>\n",
       "      <td>2023</td>\n",
       "      <td>25</td>\n",
       "      <td>0</td>\n",
       "      <td>2</td>\n",
       "      <td>2016-07-02</td>\n",
       "      <td>PT2M16S</td>\n",
       "      <td>C</td>\n",
       "    </tr>\n",
       "    <tr>\n",
       "      <th>3</th>\n",
       "      <td>VID_23096</td>\n",
       "      <td>6</td>\n",
       "      <td>620860</td>\n",
       "      <td>777</td>\n",
       "      <td>161</td>\n",
       "      <td>153</td>\n",
       "      <td>2016-07-27</td>\n",
       "      <td>PT4M22S</td>\n",
       "      <td>H</td>\n",
       "    </tr>\n",
       "    <tr>\n",
       "      <th>4</th>\n",
       "      <td>VID_10175</td>\n",
       "      <td>1</td>\n",
       "      <td>666</td>\n",
       "      <td>1</td>\n",
       "      <td>0</td>\n",
       "      <td>0</td>\n",
       "      <td>2016-06-29</td>\n",
       "      <td>PT31S</td>\n",
       "      <td>D</td>\n",
       "    </tr>\n",
       "  </tbody>\n",
       "</table>\n",
       "</div>"
      ],
      "text/plain": [
       "       vidid  adview    views likes dislikes comment   published duration  \\\n",
       "0  VID_18655      40  1031602  8523      363    1095  2016-09-14  PT7M37S   \n",
       "1  VID_14135       2     1707    56        2       6  2016-10-01  PT9M30S   \n",
       "2   VID_2187       1     2023    25        0       2  2016-07-02  PT2M16S   \n",
       "3  VID_23096       6   620860   777      161     153  2016-07-27  PT4M22S   \n",
       "4  VID_10175       1      666     1        0       0  2016-06-29    PT31S   \n",
       "\n",
       "  category  \n",
       "0        F  \n",
       "1        D  \n",
       "2        C  \n",
       "3        H  \n",
       "4        D  "
      ]
     },
     "execution_count": 64,
     "metadata": {},
     "output_type": "execute_result"
    }
   ],
   "source": [
    "data.head()"
   ]
  },
  {
   "cell_type": "code",
   "execution_count": 65,
   "id": "50ad5d9c",
   "metadata": {},
   "outputs": [
    {
     "name": "stdout",
     "output_type": "stream",
     "text": [
      "<class 'pandas.core.frame.DataFrame'>\n",
      "RangeIndex: 14999 entries, 0 to 14998\n",
      "Data columns (total 9 columns):\n",
      " #   Column     Non-Null Count  Dtype \n",
      "---  ------     --------------  ----- \n",
      " 0   vidid      14999 non-null  object\n",
      " 1   adview     14999 non-null  int64 \n",
      " 2   views      14999 non-null  object\n",
      " 3   likes      14999 non-null  object\n",
      " 4   dislikes   14999 non-null  object\n",
      " 5   comment    14999 non-null  object\n",
      " 6   published  14999 non-null  object\n",
      " 7   duration   14999 non-null  object\n",
      " 8   category   14999 non-null  object\n",
      "dtypes: int64(1), object(8)\n",
      "memory usage: 1.0+ MB\n"
     ]
    }
   ],
   "source": [
    "data.info()"
   ]
  },
  {
   "cell_type": "code",
   "execution_count": 66,
   "id": "ac9a5611",
   "metadata": {},
   "outputs": [
    {
     "data": {
      "text/html": [
       "<div>\n",
       "<style scoped>\n",
       "    .dataframe tbody tr th:only-of-type {\n",
       "        vertical-align: middle;\n",
       "    }\n",
       "\n",
       "    .dataframe tbody tr th {\n",
       "        vertical-align: top;\n",
       "    }\n",
       "\n",
       "    .dataframe thead th {\n",
       "        text-align: right;\n",
       "    }\n",
       "</style>\n",
       "<table border=\"1\" class=\"dataframe\">\n",
       "  <thead>\n",
       "    <tr style=\"text-align: right;\">\n",
       "      <th></th>\n",
       "      <th>adview</th>\n",
       "    </tr>\n",
       "  </thead>\n",
       "  <tbody>\n",
       "    <tr>\n",
       "      <th>count</th>\n",
       "      <td>1.499900e+04</td>\n",
       "    </tr>\n",
       "    <tr>\n",
       "      <th>mean</th>\n",
       "      <td>2.107791e+03</td>\n",
       "    </tr>\n",
       "    <tr>\n",
       "      <th>std</th>\n",
       "      <td>5.237711e+04</td>\n",
       "    </tr>\n",
       "    <tr>\n",
       "      <th>min</th>\n",
       "      <td>1.000000e+00</td>\n",
       "    </tr>\n",
       "    <tr>\n",
       "      <th>25%</th>\n",
       "      <td>1.000000e+00</td>\n",
       "    </tr>\n",
       "    <tr>\n",
       "      <th>50%</th>\n",
       "      <td>2.000000e+00</td>\n",
       "    </tr>\n",
       "    <tr>\n",
       "      <th>75%</th>\n",
       "      <td>6.000000e+00</td>\n",
       "    </tr>\n",
       "    <tr>\n",
       "      <th>max</th>\n",
       "      <td>5.429665e+06</td>\n",
       "    </tr>\n",
       "  </tbody>\n",
       "</table>\n",
       "</div>"
      ],
      "text/plain": [
       "             adview\n",
       "count  1.499900e+04\n",
       "mean   2.107791e+03\n",
       "std    5.237711e+04\n",
       "min    1.000000e+00\n",
       "25%    1.000000e+00\n",
       "50%    2.000000e+00\n",
       "75%    6.000000e+00\n",
       "max    5.429665e+06"
      ]
     },
     "execution_count": 66,
     "metadata": {},
     "output_type": "execute_result"
    }
   ],
   "source": [
    "data.describe()"
   ]
  },
  {
   "cell_type": "code",
   "execution_count": 67,
   "id": "8df95386",
   "metadata": {},
   "outputs": [
    {
     "data": {
      "text/plain": [
       "(14999, 9)"
      ]
     },
     "execution_count": 67,
     "metadata": {},
     "output_type": "execute_result"
    }
   ],
   "source": [
    "data.shape"
   ]
  },
  {
   "cell_type": "markdown",
   "id": "75f8350a",
   "metadata": {},
   "source": [
    "# Visualization"
   ]
  },
  {
   "cell_type": "code",
   "execution_count": 105,
   "id": "6ed5585b",
   "metadata": {},
   "outputs": [
    {
     "data": {
      "image/png": "[encoded data removed]",
      "text/plain": [
       "<Figure size 432x288 with 1 Axes>"
      ]
     },
     "metadata": {
      "needs_background": "light"
     },
     "output_type": "display_data"
    },
    {
     "data": {
      "image/png": "[encoded data removed]",
      "text/plain": [
       "<Figure size 432x288 with 1 Axes>"
      ]
     },
     "metadata": {
      "needs_background": "light"
     },
     "output_type": "display_data"
    }
   ],
   "source": [
    "plt.hist(data[\"category\"])\n",
    "plt.xlabel('Category')\n",
    "plt.show()\n",
    "plt.plot(data[\"adview\"])\n",
    "plt.ylabel('Adview')\n",
    "plt.show()"
   ]
  },
  {
   "cell_type": "code",
   "execution_count": 69,
   "id": "203fd63b",
   "metadata": {},
   "outputs": [],
   "source": [
    "#removing outliers\n",
    "data = data[data[\"adview\"] <2000000]"
   ]
  },
  {
   "cell_type": "code",
   "execution_count": 106,
   "id": "b87e9c85",
   "metadata": {},
   "outputs": [
    {
     "name": "stdout",
     "output_type": "stream",
     "text": [
      "              vidid    adview     views     likes  dislikes   comment  \\\n",
      "vidid      1.000000 -0.031081 -0.047582 -0.128861 -0.076461 -0.081060   \n",
      "adview    -0.031081  1.000000  0.031177  0.046541  0.016686  0.017631   \n",
      "views     -0.047582  0.031177  1.000000  0.726599  0.730216  0.410597   \n",
      "likes     -0.128861  0.046541  0.726599  1.000000  0.648631  0.651215   \n",
      "dislikes  -0.076461  0.016686  0.730216  0.648631  1.000000  0.532588   \n",
      "comment   -0.081060  0.017631  0.410597  0.651215  0.532588  1.000000   \n",
      "published -0.144474  0.055657  0.020110  0.096941  0.043745  0.114253   \n",
      "duration   0.006912 -0.019592  0.002563 -0.042518  0.001587 -0.037478   \n",
      "category  -0.038894 -0.004910  0.032822 -0.009175  0.011355 -0.034107   \n",
      "\n",
      "           published  duration  category  \n",
      "vidid      -0.144474  0.006912 -0.038894  \n",
      "adview      0.055657 -0.019592 -0.004910  \n",
      "views       0.020110  0.002563  0.032822  \n",
      "likes       0.096941 -0.042518 -0.009175  \n",
      "dislikes    0.043745  0.001587  0.011355  \n",
      "comment     0.114253 -0.037478 -0.034107  \n",
      "published   1.000000  0.011976 -0.056814  \n",
      "duration    0.011976  1.000000  0.049235  \n",
      "category   -0.056814  0.049235  1.000000  \n"
     ]
    },
    {
     "data": {
      "image/png": "[encoded data removed]",
      "text/plain": [
       "<Figure size 720x576 with 2 Axes>"
      ]
     },
     "metadata": {
      "needs_background": "light"
     },
     "output_type": "display_data"
    }
   ],
   "source": [
    "figure, axes = plt.subplots(figsize=(10, 8))\n",
    "corr = data.corr()\n",
    "print(corr)\n",
    "sns.heatmap(corr, mask=np.zeros_like(corr, dtype=np.bool), cmap=sns.diverging_palette(220, 10, as_cmap=True),\n",
    "square=True, ax=axes,annot=True)\n",
    "plt.show()\n"
   ]
  },
  {
   "cell_type": "markdown",
   "id": "7c31aa41",
   "metadata": {},
   "source": [
    "# Cleaning Data"
   ]
  },
  {
   "cell_type": "code",
   "execution_count": 71,
   "id": "376fd79f",
   "metadata": {
    "scrolled": true
   },
   "outputs": [
    {
     "data": {
      "text/html": [
       "<div>\n",
       "<style scoped>\n",
       "    .dataframe tbody tr th:only-of-type {\n",
       "        vertical-align: middle;\n",
       "    }\n",
       "\n",
       "    .dataframe tbody tr th {\n",
       "        vertical-align: top;\n",
       "    }\n",
       "\n",
       "    .dataframe thead th {\n",
       "        text-align: right;\n",
       "    }\n",
       "</style>\n",
       "<table border=\"1\" class=\"dataframe\">\n",
       "  <thead>\n",
       "    <tr style=\"text-align: right;\">\n",
       "      <th></th>\n",
       "      <th>vidid</th>\n",
       "      <th>adview</th>\n",
       "      <th>views</th>\n",
       "      <th>likes</th>\n",
       "      <th>dislikes</th>\n",
       "      <th>comment</th>\n",
       "      <th>published</th>\n",
       "      <th>duration</th>\n",
       "      <th>category</th>\n",
       "    </tr>\n",
       "  </thead>\n",
       "  <tbody>\n",
       "    <tr>\n",
       "      <th>0</th>\n",
       "      <td>VID_18655</td>\n",
       "      <td>40</td>\n",
       "      <td>1031602</td>\n",
       "      <td>8523</td>\n",
       "      <td>363</td>\n",
       "      <td>1095</td>\n",
       "      <td>2016-09-14</td>\n",
       "      <td>PT7M37S</td>\n",
       "      <td>F</td>\n",
       "    </tr>\n",
       "    <tr>\n",
       "      <th>1</th>\n",
       "      <td>VID_14135</td>\n",
       "      <td>2</td>\n",
       "      <td>1707</td>\n",
       "      <td>56</td>\n",
       "      <td>2</td>\n",
       "      <td>6</td>\n",
       "      <td>2016-10-01</td>\n",
       "      <td>PT9M30S</td>\n",
       "      <td>D</td>\n",
       "    </tr>\n",
       "    <tr>\n",
       "      <th>2</th>\n",
       "      <td>VID_2187</td>\n",
       "      <td>1</td>\n",
       "      <td>2023</td>\n",
       "      <td>25</td>\n",
       "      <td>0</td>\n",
       "      <td>2</td>\n",
       "      <td>2016-07-02</td>\n",
       "      <td>PT2M16S</td>\n",
       "      <td>C</td>\n",
       "    </tr>\n",
       "    <tr>\n",
       "      <th>3</th>\n",
       "      <td>VID_23096</td>\n",
       "      <td>6</td>\n",
       "      <td>620860</td>\n",
       "      <td>777</td>\n",
       "      <td>161</td>\n",
       "      <td>153</td>\n",
       "      <td>2016-07-27</td>\n",
       "      <td>PT4M22S</td>\n",
       "      <td>H</td>\n",
       "    </tr>\n",
       "    <tr>\n",
       "      <th>4</th>\n",
       "      <td>VID_10175</td>\n",
       "      <td>1</td>\n",
       "      <td>666</td>\n",
       "      <td>1</td>\n",
       "      <td>0</td>\n",
       "      <td>0</td>\n",
       "      <td>2016-06-29</td>\n",
       "      <td>PT31S</td>\n",
       "      <td>D</td>\n",
       "    </tr>\n",
       "  </tbody>\n",
       "</table>\n",
       "</div>"
      ],
      "text/plain": [
       "       vidid  adview    views likes dislikes comment   published duration  \\\n",
       "0  VID_18655      40  1031602  8523      363    1095  2016-09-14  PT7M37S   \n",
       "1  VID_14135       2     1707    56        2       6  2016-10-01  PT9M30S   \n",
       "2   VID_2187       1     2023    25        0       2  2016-07-02  PT2M16S   \n",
       "3  VID_23096       6   620860   777      161     153  2016-07-27  PT4M22S   \n",
       "4  VID_10175       1      666     1        0       0  2016-06-29    PT31S   \n",
       "\n",
       "  category  \n",
       "0        F  \n",
       "1        D  \n",
       "2        C  \n",
       "3        H  \n",
       "4        D  "
      ]
     },
     "execution_count": 71,
     "metadata": {},
     "output_type": "execute_result"
    }
   ],
   "source": [
    "data=data[data.views!='F']\n",
    "data=data[data.likes!='F']\n",
    "data=data[data.dislikes!='F']\n",
    "data=data[data.comment!='F']\n",
    "data.head()"
   ]
  },
  {
   "cell_type": "code",
   "execution_count": 72,
   "id": "09572800",
   "metadata": {},
   "outputs": [
    {
     "data": {
      "text/html": [
       "<div>\n",
       "<style scoped>\n",
       "    .dataframe tbody tr th:only-of-type {\n",
       "        vertical-align: middle;\n",
       "    }\n",
       "\n",
       "    .dataframe tbody tr th {\n",
       "        vertical-align: top;\n",
       "    }\n",
       "\n",
       "    .dataframe thead th {\n",
       "        text-align: right;\n",
       "    }\n",
       "</style>\n",
       "<table border=\"1\" class=\"dataframe\">\n",
       "  <thead>\n",
       "    <tr style=\"text-align: right;\">\n",
       "      <th></th>\n",
       "      <th>vidid</th>\n",
       "      <th>adview</th>\n",
       "      <th>views</th>\n",
       "      <th>likes</th>\n",
       "      <th>dislikes</th>\n",
       "      <th>comment</th>\n",
       "      <th>published</th>\n",
       "      <th>duration</th>\n",
       "      <th>category</th>\n",
       "    </tr>\n",
       "  </thead>\n",
       "  <tbody>\n",
       "    <tr>\n",
       "      <th>0</th>\n",
       "      <td>VID_18655</td>\n",
       "      <td>40</td>\n",
       "      <td>1031602</td>\n",
       "      <td>8523</td>\n",
       "      <td>363</td>\n",
       "      <td>1095</td>\n",
       "      <td>2016-09-14</td>\n",
       "      <td>PT7M37S</td>\n",
       "      <td>6</td>\n",
       "    </tr>\n",
       "    <tr>\n",
       "      <th>1</th>\n",
       "      <td>VID_14135</td>\n",
       "      <td>2</td>\n",
       "      <td>1707</td>\n",
       "      <td>56</td>\n",
       "      <td>2</td>\n",
       "      <td>6</td>\n",
       "      <td>2016-10-01</td>\n",
       "      <td>PT9M30S</td>\n",
       "      <td>4</td>\n",
       "    </tr>\n",
       "    <tr>\n",
       "      <th>2</th>\n",
       "      <td>VID_2187</td>\n",
       "      <td>1</td>\n",
       "      <td>2023</td>\n",
       "      <td>25</td>\n",
       "      <td>0</td>\n",
       "      <td>2</td>\n",
       "      <td>2016-07-02</td>\n",
       "      <td>PT2M16S</td>\n",
       "      <td>3</td>\n",
       "    </tr>\n",
       "    <tr>\n",
       "      <th>3</th>\n",
       "      <td>VID_23096</td>\n",
       "      <td>6</td>\n",
       "      <td>620860</td>\n",
       "      <td>777</td>\n",
       "      <td>161</td>\n",
       "      <td>153</td>\n",
       "      <td>2016-07-27</td>\n",
       "      <td>PT4M22S</td>\n",
       "      <td>8</td>\n",
       "    </tr>\n",
       "    <tr>\n",
       "      <th>4</th>\n",
       "      <td>VID_10175</td>\n",
       "      <td>1</td>\n",
       "      <td>666</td>\n",
       "      <td>1</td>\n",
       "      <td>0</td>\n",
       "      <td>0</td>\n",
       "      <td>2016-06-29</td>\n",
       "      <td>PT31S</td>\n",
       "      <td>4</td>\n",
       "    </tr>\n",
       "  </tbody>\n",
       "</table>\n",
       "</div>"
      ],
      "text/plain": [
       "       vidid  adview    views likes dislikes comment   published duration  \\\n",
       "0  VID_18655      40  1031602  8523      363    1095  2016-09-14  PT7M37S   \n",
       "1  VID_14135       2     1707    56        2       6  2016-10-01  PT9M30S   \n",
       "2   VID_2187       1     2023    25        0       2  2016-07-02  PT2M16S   \n",
       "3  VID_23096       6   620860   777      161     153  2016-07-27  PT4M22S   \n",
       "4  VID_10175       1      666     1        0       0  2016-06-29    PT31S   \n",
       "\n",
       "   category  \n",
       "0         6  \n",
       "1         4  \n",
       "2         3  \n",
       "3         8  \n",
       "4         4  "
      ]
     },
     "execution_count": 72,
     "metadata": {},
     "output_type": "execute_result"
    }
   ],
   "source": [
    "category={'A': 1,'B':2,'C':3,'D':4,'E':5,'F':6,'G':7,'H':8}\n",
    "data[\"category\"]=data[\"category\"].map(category)\n",
    "data.head()"
   ]
  },
  {
   "cell_type": "markdown",
   "id": "f0989b22",
   "metadata": {},
   "source": [
    "# Transformation of Data"
   ]
  },
  {
   "cell_type": "code",
   "execution_count": 73,
   "id": "f252c64f",
   "metadata": {},
   "outputs": [],
   "source": [
    "data[\"views\"] = pd.to_numeric(data[\"views\"])\n",
    "data[\"comment\"] = pd.to_numeric(data[\"comment\"])\n",
    "data[\"likes\"] = pd.to_numeric(data[\"likes\"])\n",
    "data[\"dislikes\"] = pd.to_numeric(data[\"dislikes\"])\n",
    "data[\"adview\"]=pd.to_numeric(data[\"adview\"])\n",
    "column_vidid=data['vidid']"
   ]
  },
  {
   "cell_type": "code",
   "execution_count": 74,
   "id": "3a99d6b9",
   "metadata": {},
   "outputs": [
    {
     "data": {
      "text/html": [
       "<div>\n",
       "<style scoped>\n",
       "    .dataframe tbody tr th:only-of-type {\n",
       "        vertical-align: middle;\n",
       "    }\n",
       "\n",
       "    .dataframe tbody tr th {\n",
       "        vertical-align: top;\n",
       "    }\n",
       "\n",
       "    .dataframe thead th {\n",
       "        text-align: right;\n",
       "    }\n",
       "</style>\n",
       "<table border=\"1\" class=\"dataframe\">\n",
       "  <thead>\n",
       "    <tr style=\"text-align: right;\">\n",
       "      <th></th>\n",
       "      <th>vidid</th>\n",
       "      <th>adview</th>\n",
       "      <th>views</th>\n",
       "      <th>likes</th>\n",
       "      <th>dislikes</th>\n",
       "      <th>comment</th>\n",
       "      <th>published</th>\n",
       "      <th>duration</th>\n",
       "      <th>category</th>\n",
       "    </tr>\n",
       "  </thead>\n",
       "  <tbody>\n",
       "    <tr>\n",
       "      <th>0</th>\n",
       "      <td>5912</td>\n",
       "      <td>40</td>\n",
       "      <td>1031602</td>\n",
       "      <td>8523</td>\n",
       "      <td>363</td>\n",
       "      <td>1095</td>\n",
       "      <td>2168</td>\n",
       "      <td>2925</td>\n",
       "      <td>6</td>\n",
       "    </tr>\n",
       "    <tr>\n",
       "      <th>1</th>\n",
       "      <td>2741</td>\n",
       "      <td>2</td>\n",
       "      <td>1707</td>\n",
       "      <td>56</td>\n",
       "      <td>2</td>\n",
       "      <td>6</td>\n",
       "      <td>2185</td>\n",
       "      <td>3040</td>\n",
       "      <td>4</td>\n",
       "    </tr>\n",
       "    <tr>\n",
       "      <th>2</th>\n",
       "      <td>8138</td>\n",
       "      <td>1</td>\n",
       "      <td>2023</td>\n",
       "      <td>25</td>\n",
       "      <td>0</td>\n",
       "      <td>2</td>\n",
       "      <td>2094</td>\n",
       "      <td>1863</td>\n",
       "      <td>3</td>\n",
       "    </tr>\n",
       "    <tr>\n",
       "      <th>3</th>\n",
       "      <td>9004</td>\n",
       "      <td>6</td>\n",
       "      <td>620860</td>\n",
       "      <td>777</td>\n",
       "      <td>161</td>\n",
       "      <td>153</td>\n",
       "      <td>2119</td>\n",
       "      <td>2546</td>\n",
       "      <td>8</td>\n",
       "    </tr>\n",
       "    <tr>\n",
       "      <th>4</th>\n",
       "      <td>122</td>\n",
       "      <td>1</td>\n",
       "      <td>666</td>\n",
       "      <td>1</td>\n",
       "      <td>0</td>\n",
       "      <td>0</td>\n",
       "      <td>2091</td>\n",
       "      <td>1963</td>\n",
       "      <td>4</td>\n",
       "    </tr>\n",
       "  </tbody>\n",
       "</table>\n",
       "</div>"
      ],
      "text/plain": [
       "   vidid  adview    views  likes  dislikes  comment  published  duration  \\\n",
       "0   5912      40  1031602   8523       363     1095       2168      2925   \n",
       "1   2741       2     1707     56         2        6       2185      3040   \n",
       "2   8138       1     2023     25         0        2       2094      1863   \n",
       "3   9004       6   620860    777       161      153       2119      2546   \n",
       "4    122       1      666      1         0        0       2091      1963   \n",
       "\n",
       "   category  \n",
       "0         6  \n",
       "1         4  \n",
       "2         3  \n",
       "3         8  \n",
       "4         4  "
      ]
     },
     "execution_count": 74,
     "metadata": {},
     "output_type": "execute_result"
    }
   ],
   "source": [
    "from sklearn.preprocessing import LabelEncoder\n",
    "data['duration']=LabelEncoder().fit_transform(data['duration'])\n",
    "data['vidid']=LabelEncoder().fit_transform(data['vidid'])\n",
    "data['published']=LabelEncoder().fit_transform(data['published'])\n",
    "data.head()"
   ]
  },
  {
   "cell_type": "code",
   "execution_count": 75,
   "id": "4f16ed75",
   "metadata": {},
   "outputs": [
    {
     "data": {
      "text/html": [
       "<div>\n",
       "<style scoped>\n",
       "    .dataframe tbody tr th:only-of-type {\n",
       "        vertical-align: middle;\n",
       "    }\n",
       "\n",
       "    .dataframe tbody tr th {\n",
       "        vertical-align: top;\n",
       "    }\n",
       "\n",
       "    .dataframe thead th {\n",
       "        text-align: right;\n",
       "    }\n",
       "</style>\n",
       "<table border=\"1\" class=\"dataframe\">\n",
       "  <thead>\n",
       "    <tr style=\"text-align: right;\">\n",
       "      <th></th>\n",
       "      <th>vidid</th>\n",
       "      <th>adview</th>\n",
       "      <th>views</th>\n",
       "      <th>likes</th>\n",
       "      <th>dislikes</th>\n",
       "      <th>comment</th>\n",
       "      <th>published</th>\n",
       "      <th>duration</th>\n",
       "      <th>category</th>\n",
       "    </tr>\n",
       "  </thead>\n",
       "  <tbody>\n",
       "    <tr>\n",
       "      <th>0</th>\n",
       "      <td>5912</td>\n",
       "      <td>40</td>\n",
       "      <td>1031602</td>\n",
       "      <td>8523</td>\n",
       "      <td>363</td>\n",
       "      <td>1095</td>\n",
       "      <td>2168</td>\n",
       "      <td>457</td>\n",
       "      <td>6</td>\n",
       "    </tr>\n",
       "    <tr>\n",
       "      <th>1</th>\n",
       "      <td>2741</td>\n",
       "      <td>2</td>\n",
       "      <td>1707</td>\n",
       "      <td>56</td>\n",
       "      <td>2</td>\n",
       "      <td>6</td>\n",
       "      <td>2185</td>\n",
       "      <td>570</td>\n",
       "      <td>4</td>\n",
       "    </tr>\n",
       "    <tr>\n",
       "      <th>2</th>\n",
       "      <td>8138</td>\n",
       "      <td>1</td>\n",
       "      <td>2023</td>\n",
       "      <td>25</td>\n",
       "      <td>0</td>\n",
       "      <td>2</td>\n",
       "      <td>2094</td>\n",
       "      <td>136</td>\n",
       "      <td>3</td>\n",
       "    </tr>\n",
       "    <tr>\n",
       "      <th>3</th>\n",
       "      <td>9004</td>\n",
       "      <td>6</td>\n",
       "      <td>620860</td>\n",
       "      <td>777</td>\n",
       "      <td>161</td>\n",
       "      <td>153</td>\n",
       "      <td>2119</td>\n",
       "      <td>262</td>\n",
       "      <td>8</td>\n",
       "    </tr>\n",
       "    <tr>\n",
       "      <th>4</th>\n",
       "      <td>122</td>\n",
       "      <td>1</td>\n",
       "      <td>666</td>\n",
       "      <td>1</td>\n",
       "      <td>0</td>\n",
       "      <td>0</td>\n",
       "      <td>2091</td>\n",
       "      <td>31</td>\n",
       "      <td>4</td>\n",
       "    </tr>\n",
       "  </tbody>\n",
       "</table>\n",
       "</div>"
      ],
      "text/plain": [
       "   vidid  adview    views  likes  dislikes  comment  published  duration  \\\n",
       "0   5912      40  1031602   8523       363     1095       2168       457   \n",
       "1   2741       2     1707     56         2        6       2185       570   \n",
       "2   8138       1     2023     25         0        2       2094       136   \n",
       "3   9004       6   620860    777       161      153       2119       262   \n",
       "4    122       1      666      1         0        0       2091        31   \n",
       "\n",
       "   category  \n",
       "0         6  \n",
       "1         4  \n",
       "2         3  \n",
       "3         8  \n",
       "4         4  "
      ]
     },
     "execution_count": 75,
     "metadata": {},
     "output_type": "execute_result"
    }
   ],
   "source": [
    "import datetime\n",
    "import time\n",
    "def checki(x):\n",
    "    y = x[2:]\n",
    "    h = ''\n",
    "    m = ''\n",
    "    s = ''\n",
    "    mm = ''\n",
    "    P = ['H','M','S']\n",
    "    for i in y:\n",
    "        if i not in P:\n",
    "            mm+=i\n",
    "        else:\n",
    "            if(i==\"H\"):\n",
    "                h = mm\n",
    "                mm = ''\n",
    "            elif(i == \"M\"):\n",
    "                m = mm\n",
    "                mm = ''\n",
    "            else:\n",
    "                s = mm\n",
    "                mm = ''\n",
    "    if(h==''):\n",
    "        h = '00'\n",
    "    if(m == ''):\n",
    "        m = '00'\n",
    "    if(s==''):\n",
    "        s='00'\n",
    "    bp = h+':'+m+':'+s\n",
    "    return bp\n",
    "train=pd.read_csv(\"train.csv\")\n",
    "mp = pd.read_csv(\"train.csv\")[\"duration\"]\n",
    "time = mp.apply(checki)\n",
    "\n",
    "def func_sec(time_string):\n",
    "    h, m, s = time_string.split(':')\n",
    "    return int(h) * 3600 + int(m) * 60 + int(s)\n",
    "\n",
    "time1=time.apply(func_sec)\n",
    "data[\"duration\"]=time1\n",
    "data.head()"
   ]
  },
  {
   "cell_type": "markdown",
   "id": "cef7b4c3",
   "metadata": {},
   "source": [
    "# Spilting of Data into train and test set"
   ]
  },
  {
   "cell_type": "code",
   "execution_count": 76,
   "id": "4e4e972f",
   "metadata": {},
   "outputs": [
    {
     "data": {
      "text/html": [
       "<div>\n",
       "<style scoped>\n",
       "    .dataframe tbody tr th:only-of-type {\n",
       "        vertical-align: middle;\n",
       "    }\n",
       "\n",
       "    .dataframe tbody tr th {\n",
       "        vertical-align: top;\n",
       "    }\n",
       "\n",
       "    .dataframe thead th {\n",
       "        text-align: right;\n",
       "    }\n",
       "</style>\n",
       "<table border=\"1\" class=\"dataframe\">\n",
       "  <thead>\n",
       "    <tr style=\"text-align: right;\">\n",
       "      <th></th>\n",
       "      <th>adview</th>\n",
       "      <th>views</th>\n",
       "      <th>likes</th>\n",
       "      <th>dislikes</th>\n",
       "      <th>comment</th>\n",
       "      <th>published</th>\n",
       "      <th>duration</th>\n",
       "      <th>category</th>\n",
       "    </tr>\n",
       "  </thead>\n",
       "  <tbody>\n",
       "    <tr>\n",
       "      <th>0</th>\n",
       "      <td>40</td>\n",
       "      <td>1031602</td>\n",
       "      <td>8523</td>\n",
       "      <td>363</td>\n",
       "      <td>1095</td>\n",
       "      <td>2168</td>\n",
       "      <td>457</td>\n",
       "      <td>6</td>\n",
       "    </tr>\n",
       "    <tr>\n",
       "      <th>1</th>\n",
       "      <td>2</td>\n",
       "      <td>1707</td>\n",
       "      <td>56</td>\n",
       "      <td>2</td>\n",
       "      <td>6</td>\n",
       "      <td>2185</td>\n",
       "      <td>570</td>\n",
       "      <td>4</td>\n",
       "    </tr>\n",
       "    <tr>\n",
       "      <th>2</th>\n",
       "      <td>1</td>\n",
       "      <td>2023</td>\n",
       "      <td>25</td>\n",
       "      <td>0</td>\n",
       "      <td>2</td>\n",
       "      <td>2094</td>\n",
       "      <td>136</td>\n",
       "      <td>3</td>\n",
       "    </tr>\n",
       "    <tr>\n",
       "      <th>3</th>\n",
       "      <td>6</td>\n",
       "      <td>620860</td>\n",
       "      <td>777</td>\n",
       "      <td>161</td>\n",
       "      <td>153</td>\n",
       "      <td>2119</td>\n",
       "      <td>262</td>\n",
       "      <td>8</td>\n",
       "    </tr>\n",
       "    <tr>\n",
       "      <th>4</th>\n",
       "      <td>1</td>\n",
       "      <td>666</td>\n",
       "      <td>1</td>\n",
       "      <td>0</td>\n",
       "      <td>0</td>\n",
       "      <td>2091</td>\n",
       "      <td>31</td>\n",
       "      <td>4</td>\n",
       "    </tr>\n",
       "  </tbody>\n",
       "</table>\n",
       "</div>"
      ],
      "text/plain": [
       "   adview    views  likes  dislikes  comment  published  duration  category\n",
       "0      40  1031602   8523       363     1095       2168       457         6\n",
       "1       2     1707     56         2        6       2185       570         4\n",
       "2       1     2023     25         0        2       2094       136         3\n",
       "3       6   620860    777       161      153       2119       262         8\n",
       "4       1      666      1         0        0       2091        31         4"
      ]
     },
     "execution_count": 76,
     "metadata": {},
     "output_type": "execute_result"
    }
   ],
   "source": [
    "y_train = pd.DataFrame(data = data.iloc[:, 1].values, columns = ['target'])\n",
    "data_train=data.drop([\"adview\"],axis=1)\n",
    "data_train=data.drop([\"vidid\"],axis=1)\n",
    "data_train.head()\n"
   ]
  },
  {
   "cell_type": "code",
   "execution_count": 77,
   "id": "52b26341",
   "metadata": {},
   "outputs": [],
   "source": [
    "from sklearn.model_selection import train_test_split\n",
    "X_train, X_test, y_train, y_test = train_test_split(data_train, y_train, test_size=0.2, random_state=42)"
   ]
  },
  {
   "cell_type": "code",
   "execution_count": 78,
   "id": "b7a54f27",
   "metadata": {},
   "outputs": [
    {
     "data": {
      "text/plain": [
       "(11708, 8)"
      ]
     },
     "execution_count": 78,
     "metadata": {},
     "output_type": "execute_result"
    }
   ],
   "source": [
    "X_train.shape"
   ]
  },
  {
   "cell_type": "code",
   "execution_count": 79,
   "id": "bb1538c0",
   "metadata": {},
   "outputs": [
    {
     "data": {
      "text/plain": [
       "(2928, 8)"
      ]
     },
     "execution_count": 79,
     "metadata": {},
     "output_type": "execute_result"
    }
   ],
   "source": [
    "X_test.shape"
   ]
  },
  {
   "cell_type": "code",
   "execution_count": 80,
   "id": "b7be3292",
   "metadata": {},
   "outputs": [
    {
     "data": {
      "text/plain": [
       "(11708, 1)"
      ]
     },
     "execution_count": 80,
     "metadata": {},
     "output_type": "execute_result"
    }
   ],
   "source": [
    "y_train.shape"
   ]
  },
  {
   "cell_type": "code",
   "execution_count": 81,
   "id": "fc36835a",
   "metadata": {},
   "outputs": [
    {
     "data": {
      "text/plain": [
       "(2928, 1)"
      ]
     },
     "execution_count": 81,
     "metadata": {},
     "output_type": "execute_result"
    }
   ],
   "source": [
    "y_test.shape"
   ]
  },
  {
   "cell_type": "markdown",
   "id": "32ac8a94",
   "metadata": {},
   "source": [
    "# Normalization of Data"
   ]
  },
  {
   "cell_type": "code",
   "execution_count": 82,
   "id": "f3cf9d97",
   "metadata": {},
   "outputs": [
    {
     "data": {
      "text/plain": [
       "0.15230461837422657"
      ]
     },
     "execution_count": 82,
     "metadata": {},
     "output_type": "execute_result"
    }
   ],
   "source": [
    "from sklearn.preprocessing import MinMaxScaler\n",
    "scaler = MinMaxScaler()\n",
    "X_train=scaler.fit_transform(X_train)\n",
    "X_test=scaler.fit_transform(X_test)\n",
    "X_train.mean()"
   ]
  },
  {
   "cell_type": "markdown",
   "id": "902f7945",
   "metadata": {},
   "source": [
    "# Linear Regression"
   ]
  },
  {
   "cell_type": "code",
   "execution_count": 83,
   "id": "dfb3ae4d",
   "metadata": {},
   "outputs": [
    {
     "data": {
      "text/plain": [
       "LinearRegression()"
      ]
     },
     "execution_count": 83,
     "metadata": {},
     "output_type": "execute_result"
    }
   ],
   "source": [
    "from sklearn.linear_model import LinearRegression\n",
    "linear_regressor = LinearRegression()\n",
    "linear_regressor.fit(X_train, y_train)"
   ]
  },
  {
   "cell_type": "markdown",
   "id": "6ef60ed1",
   "metadata": {},
   "source": [
    "# Support Vector Regressor"
   ]
  },
  {
   "cell_type": "code",
   "execution_count": 84,
   "id": "5018e08b",
   "metadata": {},
   "outputs": [
    {
     "data": {
      "text/plain": [
       "SVR()"
      ]
     },
     "execution_count": 84,
     "metadata": {},
     "output_type": "execute_result"
    }
   ],
   "source": [
    "from sklearn.svm import SVR\n",
    "support_vector_regressor = SVR()\n",
    "support_vector_regressor.fit(X_train,y_train)"
   ]
  },
  {
   "cell_type": "markdown",
   "id": "ffa76cb3",
   "metadata": {},
   "source": [
    "# Decision Tree Regressor"
   ]
  },
  {
   "cell_type": "code",
   "execution_count": 85,
   "id": "af510a6e",
   "metadata": {},
   "outputs": [
    {
     "data": {
      "text/plain": [
       "DecisionTreeRegressor()"
      ]
     },
     "execution_count": 85,
     "metadata": {},
     "output_type": "execute_result"
    }
   ],
   "source": [
    "from sklearn.tree import DecisionTreeRegressor\n",
    "decision_tree_regressor = DecisionTreeRegressor()\n",
    "decision_tree_regressor.fit(X_train, y_train)"
   ]
  },
  {
   "cell_type": "markdown",
   "id": "a5d4d83b",
   "metadata": {},
   "source": [
    "# Gradient Boosting Regressor"
   ]
  },
  {
   "cell_type": "code",
   "execution_count": 86,
   "id": "ce02cdd9",
   "metadata": {},
   "outputs": [],
   "source": [
    "from sklearn.ensemble import GradientBoostingRegressor"
   ]
  },
  {
   "cell_type": "code",
   "execution_count": 87,
   "id": "97b47e4f",
   "metadata": {},
   "outputs": [
    {
     "data": {
      "text/plain": [
       "GradientBoostingRegressor(n_estimators=30)"
      ]
     },
     "execution_count": 87,
     "metadata": {},
     "output_type": "execute_result"
    }
   ],
   "source": [
    "gradient_boosting_model = GradientBoostingRegressor(n_estimators=30)\n",
    "gradient_boosting_model.fit(X_train, y_train)"
   ]
  },
  {
   "cell_type": "markdown",
   "id": "d760a596",
   "metadata": {},
   "source": [
    "# Random Forest Regressor"
   ]
  },
  {
   "cell_type": "code",
   "execution_count": 88,
   "id": "7dcb13fb",
   "metadata": {},
   "outputs": [
    {
     "data": {
      "text/plain": [
       "RandomForestRegressor(max_depth=25, min_samples_split=15, n_estimators=150)"
      ]
     },
     "execution_count": 88,
     "metadata": {},
     "output_type": "execute_result"
    }
   ],
   "source": [
    "from sklearn.ensemble import RandomForestRegressor\n",
    "random_forest_regressor = RandomForestRegressor(n_estimators=150, max_depth=25, min_samples_split=15)\n",
    "random_forest_regressor.fit(X_train,y_train)"
   ]
  },
  {
   "cell_type": "markdown",
   "id": "25eb6fdc",
   "metadata": {},
   "source": [
    "# Artificial Neural Network"
   ]
  },
  {
   "cell_type": "code",
   "execution_count": 89,
   "id": "f84f80f3",
   "metadata": {},
   "outputs": [],
   "source": [
    "from tensorflow.keras.models import Sequential\n",
    "from tensorflow.keras.layers import Dense"
   ]
  },
  {
   "cell_type": "code",
   "execution_count": 90,
   "id": "24d049c9",
   "metadata": {},
   "outputs": [
    {
     "name": "stdout",
     "output_type": "stream",
     "text": [
      "Epoch 1/100\n",
      "366/366 [==============================] - 1s 1ms/step - loss: 767407808.0000 - mean_squared_error: 767407808.0000\n",
      "Epoch 2/100\n",
      "366/366 [==============================] - 1s 1ms/step - loss: 767405568.0000 - mean_squared_error: 767405568.0000\n",
      "Epoch 3/100\n",
      "366/366 [==============================] - 0s 1ms/step - loss: 767398016.0000 - mean_squared_error: 767398016.0000\n",
      "Epoch 4/100\n",
      "366/366 [==============================] - 0s 1ms/step - loss: 767381440.0000 - mean_squared_error: 767381440.0000\n",
      "Epoch 5/100\n",
      "366/366 [==============================] - 0s 1ms/step - loss: 767350592.0000 - mean_squared_error: 767350592.0000\n",
      "Epoch 6/100\n",
      "366/366 [==============================] - 0s 1ms/step - loss: 767308736.0000 - mean_squared_error: 767308736.0000\n",
      "Epoch 7/100\n",
      "366/366 [==============================] - 0s 1ms/step - loss: 767255296.0000 - mean_squared_error: 767255296.0000\n",
      "Epoch 8/100\n",
      "366/366 [==============================] - 0s 1ms/step - loss: 767190592.0000 - mean_squared_error: 767190592.0000\n",
      "Epoch 9/100\n",
      "366/366 [==============================] - 0s 1ms/step - loss: 767112256.0000 - mean_squared_error: 767112256.0000\n",
      "Epoch 10/100\n",
      "366/366 [==============================] - 0s 1ms/step - loss: 767020800.0000 - mean_squared_error: 767020800.0000\n",
      "Epoch 11/100\n",
      "366/366 [==============================] - 0s 1ms/step - loss: 766917888.0000 - mean_squared_error: 766917888.0000\n",
      "Epoch 12/100\n",
      "366/366 [==============================] - 0s 1ms/step - loss: 766805760.0000 - mean_squared_error: 766805760.0000\n",
      "Epoch 13/100\n",
      "366/366 [==============================] - 0s 1ms/step - loss: 766682816.0000 - mean_squared_error: 766682816.0000\n",
      "Epoch 14/100\n",
      "366/366 [==============================] - 0s 1ms/step - loss: 766555456.0000 - mean_squared_error: 766555456.0000\n",
      "Epoch 15/100\n",
      "366/366 [==============================] - 0s 1ms/step - loss: 766421760.0000 - mean_squared_error: 766421760.0000\n",
      "Epoch 16/100\n",
      "366/366 [==============================] - 0s 1ms/step - loss: 766278464.0000 - mean_squared_error: 766278464.0000\n",
      "Epoch 17/100\n",
      "366/366 [==============================] - 0s 1ms/step - loss: 766134976.0000 - mean_squared_error: 766134976.0000\n",
      "Epoch 18/100\n",
      "366/366 [==============================] - 0s 1ms/step - loss: 765992896.0000 - mean_squared_error: 765992896.0000: 0s - loss: 778465856.0000 - mean_squared_error: 778465856.00\n",
      "Epoch 19/100\n",
      "366/366 [==============================] - 0s 1ms/step - loss: 765851520.0000 - mean_squared_error: 765851520.0000\n",
      "Epoch 20/100\n",
      "366/366 [==============================] - 0s 1ms/step - loss: 765708736.0000 - mean_squared_error: 765708736.0000\n",
      "Epoch 21/100\n",
      "366/366 [==============================] - 0s 1ms/step - loss: 765565952.0000 - mean_squared_error: 765565952.0000\n",
      "Epoch 22/100\n",
      "366/366 [==============================] - 0s 1ms/step - loss: 765421952.0000 - mean_squared_error: 765421952.0000\n",
      "Epoch 23/100\n",
      "366/366 [==============================] - 1s 2ms/step - loss: 765282880.0000 - mean_squared_error: 765282880.0000\n",
      "Epoch 24/100\n",
      "366/366 [==============================] - 1s 2ms/step - loss: 765152384.0000 - mean_squared_error: 765152384.0000\n",
      "Epoch 25/100\n",
      "366/366 [==============================] - 1s 2ms/step - loss: 765023168.0000 - mean_squared_error: 765023168.0000\n",
      "Epoch 26/100\n",
      "366/366 [==============================] - 1s 1ms/step - loss: 764899648.0000 - mean_squared_error: 764899648.0000\n",
      "Epoch 27/100\n",
      "366/366 [==============================] - 1s 2ms/step - loss: 764781184.0000 - mean_squared_error: 764781184.0000\n",
      "Epoch 28/100\n",
      "366/366 [==============================] - 1s 2ms/step - loss: 764670080.0000 - mean_squared_error: 764670080.0000\n",
      "Epoch 29/100\n",
      "366/366 [==============================] - 1s 2ms/step - loss: 764568384.0000 - mean_squared_error: 764568384.0000\n",
      "Epoch 30/100\n",
      "366/366 [==============================] - 1s 2ms/step - loss: 764471936.0000 - mean_squared_error: 764471936.0000\n",
      "Epoch 31/100\n",
      "366/366 [==============================] - 1s 2ms/step - loss: 764380672.0000 - mean_squared_error: 764380672.0000\n",
      "Epoch 32/100\n",
      "366/366 [==============================] - 1s 2ms/step - loss: 764293312.0000 - mean_squared_error: 764293312.0000\n",
      "Epoch 33/100\n",
      "366/366 [==============================] - 1s 2ms/step - loss: 764208256.0000 - mean_squared_error: 764208256.0000\n",
      "Epoch 34/100\n",
      "366/366 [==============================] - 1s 2ms/step - loss: 764123968.0000 - mean_squared_error: 764123968.0000\n",
      "Epoch 35/100\n",
      "366/366 [==============================] - 1s 2ms/step - loss: 764042176.0000 - mean_squared_error: 764042176.0000\n",
      "Epoch 36/100\n",
      "366/366 [==============================] - 1s 1ms/step - loss: 763967168.0000 - mean_squared_error: 763967168.0000\n",
      "Epoch 37/100\n",
      "366/366 [==============================] - 1s 1ms/step - loss: 763893632.0000 - mean_squared_error: 763893632.0000 - loss: 283880000.0000 - mean_squared_err\n",
      "Epoch 38/100\n",
      "366/366 [==============================] - 0s 1ms/step - loss: 763824768.0000 - mean_squared_error: 763824768.0000\n",
      "Epoch 39/100\n",
      "366/366 [==============================] - 0s 1ms/step - loss: 763760640.0000 - mean_squared_error: 763760640.0000\n",
      "Epoch 40/100\n",
      "366/366 [==============================] - 0s 1ms/step - loss: 763691328.0000 - mean_squared_error: 763691328.0000\n",
      "Epoch 41/100\n",
      "366/366 [==============================] - 1s 2ms/step - loss: 763627648.0000 - mean_squared_error: 763627648.0000\n",
      "Epoch 42/100\n",
      "366/366 [==============================] - 1s 1ms/step - loss: 763559808.0000 - mean_squared_error: 763559808.0000\n",
      "Epoch 43/100\n",
      "366/366 [==============================] - 1s 1ms/step - loss: 763496128.0000 - mean_squared_error: 763496128.0000\n",
      "Epoch 44/100\n",
      "366/366 [==============================] - 1s 1ms/step - loss: 763430144.0000 - mean_squared_error: 763430144.0000\n",
      "Epoch 45/100\n",
      "366/366 [==============================] - 0s 1ms/step - loss: 763360384.0000 - mean_squared_error: 763360384.0000\n",
      "Epoch 46/100\n",
      "366/366 [==============================] - 1s 2ms/step - loss: 763292864.0000 - mean_squared_error: 763292864.0000\n",
      "Epoch 47/100\n",
      "366/366 [==============================] - 1s 1ms/step - loss: 763225344.0000 - mean_squared_error: 763225344.0000\n",
      "Epoch 48/100\n",
      "366/366 [==============================] - 1s 2ms/step - loss: 763157696.0000 - mean_squared_error: 763157696.0000: 0s - loss: 594262592.0000 - mean_squared_error: 594262592.00\n",
      "Epoch 49/100\n",
      "366/366 [==============================] - 0s 1ms/step - loss: 763084736.0000 - mean_squared_error: 763084736.0000\n",
      "Epoch 50/100\n",
      "366/366 [==============================] - 0s 1ms/step - loss: 763012992.0000 - mean_squared_error: 763012992.0000\n",
      "Epoch 51/100\n",
      "366/366 [==============================] - 1s 1ms/step - loss: 762937728.0000 - mean_squared_error: 762937728.0000\n",
      "Epoch 52/100\n",
      "366/366 [==============================] - 1s 1ms/step - loss: 762863040.0000 - mean_squared_error: 762863040.0000\n",
      "Epoch 53/100\n",
      "366/366 [==============================] - 1s 1ms/step - loss: 762785920.0000 - mean_squared_error: 762785920.0000\n",
      "Epoch 54/100\n",
      "366/366 [==============================] - 1s 1ms/step - loss: 762705984.0000 - mean_squared_error: 762705984.0000\n",
      "Epoch 55/100\n",
      "366/366 [==============================] - 1s 1ms/step - loss: 762627136.0000 - mean_squared_error: 762627136.0000\n",
      "Epoch 56/100\n",
      "366/366 [==============================] - 1s 1ms/step - loss: 762540736.0000 - mean_squared_error: 762540736.0000\n",
      "Epoch 57/100\n",
      "366/366 [==============================] - 1s 1ms/step - loss: 762460096.0000 - mean_squared_error: 762460096.0000\n",
      "Epoch 58/100\n",
      "366/366 [==============================] - 1s 1ms/step - loss: 762375296.0000 - mean_squared_error: 762375296.0000\n",
      "Epoch 59/100\n",
      "366/366 [==============================] - 1s 1ms/step - loss: 762291264.0000 - mean_squared_error: 762291264.0000\n",
      "Epoch 60/100\n",
      "366/366 [==============================] - 0s 1ms/step - loss: 762206272.0000 - mean_squared_error: 762206272.0000\n",
      "Epoch 61/100\n",
      "366/366 [==============================] - 0s 1ms/step - loss: 762113536.0000 - mean_squared_error: 762113536.0000\n",
      "Epoch 62/100\n",
      "366/366 [==============================] - 0s 1ms/step - loss: 762020288.0000 - mean_squared_error: 762020288.0000\n",
      "Epoch 63/100\n"
     ]
    },
    {
     "name": "stdout",
     "output_type": "stream",
     "text": [
      "366/366 [==============================] - 1s 1ms/step - loss: 761931328.0000 - mean_squared_error: 761931328.0000\n",
      "Epoch 64/100\n",
      "366/366 [==============================] - 0s 1ms/step - loss: 761837632.0000 - mean_squared_error: 761837632.0000\n",
      "Epoch 65/100\n",
      "366/366 [==============================] - 0s 934us/step - loss: 761740736.0000 - mean_squared_error: 761740736.0000\n",
      "Epoch 66/100\n",
      "366/366 [==============================] - ETA: 0s - loss: 767090368.0000 - mean_squared_error: 767090368.00 - 1s 2ms/step - loss: 761641728.0000 - mean_squared_error: 761641728.0000\n",
      "Epoch 67/100\n",
      "366/366 [==============================] - 0s 1ms/step - loss: 761547200.0000 - mean_squared_error: 761547200.0000\n",
      "Epoch 68/100\n",
      "366/366 [==============================] - 0s 774us/step - loss: 761444480.0000 - mean_squared_error: 761444480.0000\n",
      "Epoch 69/100\n",
      "366/366 [==============================] - 0s 961us/step - loss: 761346944.0000 - mean_squared_error: 761346944.0000\n",
      "Epoch 70/100\n",
      "366/366 [==============================] - 1s 1ms/step - loss: 761234048.0000 - mean_squared_error: 761234048.0000: 0s - loss: 922169600.0000 - mean_squared_error: 92\n",
      "Epoch 71/100\n",
      "366/366 [==============================] - 1s 1ms/step - loss: 761132928.0000 - mean_squared_error: 761132928.0000\n",
      "Epoch 72/100\n",
      "366/366 [==============================] - 1s 2ms/step - loss: 761032064.0000 - mean_squared_error: 761032064.0000\n",
      "Epoch 73/100\n",
      "366/366 [==============================] - 1s 1ms/step - loss: 760912832.0000 - mean_squared_error: 760912832.0000\n",
      "Epoch 74/100\n",
      "366/366 [==============================] - 0s 1ms/step - loss: 760802240.0000 - mean_squared_error: 760802240.0000\n",
      "Epoch 75/100\n",
      "366/366 [==============================] - 0s 1ms/step - loss: 760691904.0000 - mean_squared_error: 760691904.0000\n",
      "Epoch 76/100\n",
      "366/366 [==============================] - 1s 1ms/step - loss: 760577280.0000 - mean_squared_error: 760577280.0000\n",
      "Epoch 77/100\n",
      "366/366 [==============================] - 1s 2ms/step - loss: 760469248.0000 - mean_squared_error: 760469248.0000\n",
      "Epoch 78/100\n",
      "366/366 [==============================] - 1s 1ms/step - loss: 760352896.0000 - mean_squared_error: 760352896.0000\n",
      "Epoch 79/100\n",
      "366/366 [==============================] - 1s 1ms/step - loss: 760237504.0000 - mean_squared_error: 760237504.0000\n",
      "Epoch 80/100\n",
      "366/366 [==============================] - 1s 2ms/step - loss: 760119616.0000 - mean_squared_error: 760119616.0000\n",
      "Epoch 81/100\n",
      "366/366 [==============================] - 1s 1ms/step - loss: 759999616.0000 - mean_squared_error: 759999616.0000\n",
      "Epoch 82/100\n",
      "366/366 [==============================] - 1s 1ms/step - loss: 759876992.0000 - mean_squared_error: 759876992.0000\n",
      "Epoch 83/100\n",
      "366/366 [==============================] - 1s 1ms/step - loss: 759763648.0000 - mean_squared_error: 759763648.0000\n",
      "Epoch 84/100\n",
      "366/366 [==============================] - 1s 1ms/step - loss: 759635520.0000 - mean_squared_error: 759635520.0000\n",
      "Epoch 85/100\n",
      "366/366 [==============================] - 0s 1ms/step - loss: 759506240.0000 - mean_squared_error: 759506240.0000\n",
      "Epoch 86/100\n",
      "366/366 [==============================] - 1s 1ms/step - loss: 759394560.0000 - mean_squared_error: 759394560.0000\n",
      "Epoch 87/100\n",
      "366/366 [==============================] - 0s 1ms/step - loss: 759257216.0000 - mean_squared_error: 759257216.0000\n",
      "Epoch 88/100\n",
      "366/366 [==============================] - 0s 1ms/step - loss: 759128960.0000 - mean_squared_error: 759128960.0000\n",
      "Epoch 89/100\n",
      "366/366 [==============================] - 0s 1ms/step - loss: 758991680.0000 - mean_squared_error: 758991680.0000\n",
      "Epoch 90/100\n",
      "366/366 [==============================] - 0s 1ms/step - loss: 758863360.0000 - mean_squared_error: 758863360.0000\n",
      "Epoch 91/100\n",
      "366/366 [==============================] - 1s 1ms/step - loss: 758728576.0000 - mean_squared_error: 758728576.0000\n",
      "Epoch 92/100\n",
      "366/366 [==============================] - 0s 1ms/step - loss: 758595584.0000 - mean_squared_error: 758595584.0000\n",
      "Epoch 93/100\n",
      "366/366 [==============================] - 1s 2ms/step - loss: 758460224.0000 - mean_squared_error: 758460224.0000\n",
      "Epoch 94/100\n",
      "366/366 [==============================] - 1s 2ms/step - loss: 758320256.0000 - mean_squared_error: 758320256.0000\n",
      "Epoch 95/100\n",
      "366/366 [==============================] - 1s 2ms/step - loss: 758178560.0000 - mean_squared_error: 758178560.0000\n",
      "Epoch 96/100\n",
      "366/366 [==============================] - 1s 1ms/step - loss: 758040896.0000 - mean_squared_error: 758040896.0000\n",
      "Epoch 97/100\n",
      "366/366 [==============================] - 0s 1ms/step - loss: 757896128.0000 - mean_squared_error: 757896128.0000TA: 0s - loss: 709708288.0000 - mean_squared_error: 70\n",
      "Epoch 98/100\n",
      "366/366 [==============================] - 1s 1ms/step - loss: 757753408.0000 - mean_squared_error: 757753408.0000\n",
      "Epoch 99/100\n",
      "366/366 [==============================] - 1s 2ms/step - loss: 757608704.0000 - mean_squared_error: 757608704.0000\n",
      "Epoch 100/100\n",
      "366/366 [==============================] - 1s 1ms/step - loss: 757456384.0000 - mean_squared_error: 757456384.0000\n",
      "Model: \"sequential_1\"\n",
      "_________________________________________________________________\n",
      "Layer (type)                 Output Shape              Param #   \n",
      "=================================================================\n",
      "dense_3 (Dense)              (None, 7)                 63        \n",
      "_________________________________________________________________\n",
      "dense_4 (Dense)              (None, 7)                 56        \n",
      "_________________________________________________________________\n",
      "dense_5 (Dense)              (None, 1)                 8         \n",
      "=================================================================\n",
      "Total params: 127\n",
      "Trainable params: 127\n",
      "Non-trainable params: 0\n",
      "_________________________________________________________________\n"
     ]
    }
   ],
   "source": [
    "model = Sequential()\n",
    "model.add(Dense(7, activation='relu'))\n",
    "model.add(Dense(7, activation='relu'))\n",
    "model.add(Dense(1))\n",
    "model.compile(optimizer='adam',loss='mse',metrics=[\"mean_squared_error\"])\n",
    "history=model.fit(X_train,y_train,epochs=100)\n",
    "model.summary()"
   ]
  },
  {
   "cell_type": "markdown",
   "id": "525e6055",
   "metadata": {},
   "source": [
    "# Picking the best model based on error as well as generalisation"
   ]
  },
  {
   "cell_type": "code",
   "execution_count": 91,
   "id": "16aa758c",
   "metadata": {},
   "outputs": [],
   "source": [
    "from sklearn import metrics\n",
    "\n",
    "models_dict = {\n",
    "               'Linear Regression Model':linear_regressor,\n",
    "               'Support Vector Regression':support_vector_regressor,\n",
    "               'Decision Tree':decision_tree_regressor, \n",
    "               'Gradient Boosting':gradient_boosting_model, \n",
    "               'Random Forest':random_forest_regressor,\n",
    "               'Artificial Neral Network':model\n",
    "              }\n",
    "\n",
    "def print_error(X_test, y_test, model):\n",
    "    prediction = model.predict(X_test)\n",
    "    print('Mean Absolute Error:', metrics.mean_absolute_error(y_test, prediction))\n",
    "    print('Mean Squared Error:', metrics.mean_squared_error(y_test, prediction))\n",
    "    print('Root Mean Squared Error:', np.sqrt(metrics.mean_squared_error(y_test, prediction)))"
   ]
  },
  {
   "cell_type": "code",
   "execution_count": 92,
   "id": "e1c2c8f6",
   "metadata": {},
   "outputs": [
    {
     "name": "stdout",
     "output_type": "stream",
     "text": [
      "Linear Regression Model\n",
      "Mean Absolute Error: 318.44444106234386\n",
      "Mean Squared Error: 29348199.860513885\n",
      "Root Mean Squared Error: 5417.397886487007\n",
      "**************************************************\n",
      "Support Vector Regression\n",
      "Mean Absolute Error: 1696.915128586595\n",
      "Mean Squared Error: 833667045.124584\n",
      "Root Mean Squared Error: 28873.2929387104\n",
      "**************************************************\n",
      "Decision Tree\n",
      "Mean Absolute Error: 222.8162568306011\n",
      "Mean Squared Error: 11587809.764344262\n",
      "Root Mean Squared Error: 3404.0872145619687\n",
      "**************************************************\n",
      "Gradient Boosting\n",
      "Mean Absolute Error: 249.50112306635006\n",
      "Mean Squared Error: 5427217.727350819\n",
      "Root Mean Squared Error: 2329.638969314949\n",
      "**************************************************\n",
      "Random Forest\n",
      "Mean Absolute Error: 326.294312826171\n",
      "Mean Squared Error: 38882443.86659703\n",
      "Root Mean Squared Error: 6235.578871812707\n",
      "**************************************************\n",
      "Artificial Neral Network\n",
      "Mean Absolute Error: 2932.3232840488517\n",
      "Mean Squared Error: 822696387.210118\n",
      "Root Mean Squared Error: 28682.684449160577\n",
      "**************************************************\n"
     ]
    }
   ],
   "source": [
    "for model_name, m in models_dict.items():\n",
    "    print(model_name)\n",
    "    print_error(X_test, y_test, m)\n",
    "    print(\"*\"*50)\n"
   ]
  },
  {
   "cell_type": "markdown",
   "id": "15352772",
   "metadata": {},
   "source": [
    "## So from above results Decision Tree Regressor model has least error and is best fitted for this dataset"
   ]
  },
  {
   "cell_type": "code",
   "execution_count": 103,
   "id": "d5b111d8",
   "metadata": {},
   "outputs": [],
   "source": [
    "predictions_svr = decision_tree_regressor.predict(X_test)\n",
    "predictedValue = pd.DataFrame(predictions_svr, columns=['Predicted Adview'])\n",
    "predictedValue.head()\n",
    "predictedValue.to_csv('predicted value.csv')"
   ]
  },
  {
   "cell_type": "code",
   "execution_count": 104,
   "id": "d484aed6",
   "metadata": {},
   "outputs": [],
   "source": [
    "#Saving Scikitlearn models\n",
    "import joblib\n",
    "joblib.dump(decision_tree_regressor, \"decisiontree_youtubeadviewprediction.pkl\")\n",
    "# Saving Keras Artificial Neural Network model\n",
    "model.save(\"ann_youtubeadviewprediction.h5\")"
   ]
  },
  {
   "cell_type": "code",
   "execution_count": null,
   "id": "c3132c4a",
   "metadata": {},
   "outputs": [],
   "source": []
  },
  {
   "cell_type": "code",
   "execution_count": null,
   "id": "bf46eb4f",
   "metadata": {},
   "outputs": [],
   "source": []
  }
 ],
 "metadata": {
  "kernelspec": {
   "display_name": "Python 3",
   "language": "python",
   "name": "python3"
  },
  "language_info": {
   "codemirror_mode": {
    "name": "ipython",
    "version": 3
   },
   "file_extension": ".py",
   "mimetype": "text/x-python",
   "name": "python",
   "nbconvert_exporter": "python",
   "pygments_lexer": "ipython3",
   "version": "3.8.8"
  }
 },
 "nbformat": 4,
 "nbformat_minor": 5
}
